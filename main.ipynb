{
 "cells": [
  {
   "cell_type": "code",
   "execution_count": 1,
   "metadata": {},
   "outputs": [
    {
     "name": "stdout",
     "output_type": "stream",
     "text": [
      "Expenses:\n",
      "Car: 100.00€\n"
     ]
    }
   ],
   "source": [
    "def finance_tracker():\n",
    "    expenses = {}\n",
    "    \n",
    "    while True:\n",
    "        category = input(\"Enter expense category: \\nIf you are done or want to quit, type 'quit' to exit.\").lower()\n",
    "        if category == \"quit\":\n",
    "            break\n",
    "        \n",
    "        amount = float(input(\"Enter expense amount: \"))\n",
    "        if category in expenses:\n",
    "            expenses[category] += amount\n",
    "        else:\n",
    "            expenses[category] = amount\n",
    "    \n",
    "    print(\"Expenses:\")\n",
    "    for category , amount in expenses.items():\n",
    "        print(f\"{category.capitalize()}: {amount:.2f}€\")\n",
    "        \n",
    "finance_tracker()"
   ]
  }
 ],
 "metadata": {
  "kernelspec": {
   "display_name": "Python 3",
   "language": "python",
   "name": "python3"
  },
  "language_info": {
   "codemirror_mode": {
    "name": "ipython",
    "version": 3
   },
   "file_extension": ".py",
   "mimetype": "text/x-python",
   "name": "python",
   "nbconvert_exporter": "python",
   "pygments_lexer": "ipython3",
   "version": "3.11.0"
  }
 },
 "nbformat": 4,
 "nbformat_minor": 2
}
